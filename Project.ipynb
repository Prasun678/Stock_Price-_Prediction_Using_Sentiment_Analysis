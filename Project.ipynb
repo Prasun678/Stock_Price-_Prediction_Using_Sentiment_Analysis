{
  "nbformat": 4,
  "nbformat_minor": 0,
  "metadata": {
    "colab": {
      "provenance": []
    },
    "kernelspec": {
      "name": "python3",
      "display_name": "Python 3"
    },
    "language_info": {
      "name": "python"
    }
  },
  "cells": [
    {
      "cell_type": "code",
      "execution_count": null,
      "metadata": {
        "colab": {
          "base_uri": "https://localhost:8080/"
        },
        "id": "ygI_-aRp-VKc",
        "outputId": "5907b19e-cc50-4d84-baf6-fafd86222161"
      },
      "outputs": [
        {
          "output_type": "stream",
          "name": "stdout",
          "text": [
            "Collecting vaderSentiment\n",
            "  Downloading vaderSentiment-3.3.2-py2.py3-none-any.whl.metadata (572 bytes)\n",
            "Requirement already satisfied: scikit-learn in /usr/local/lib/python3.10/dist-packages (1.5.2)\n",
            "Requirement already satisfied: pandas in /usr/local/lib/python3.10/dist-packages (2.2.2)\n",
            "Requirement already satisfied: requests in /usr/local/lib/python3.10/dist-packages (from vaderSentiment) (2.32.3)\n",
            "Requirement already satisfied: numpy>=1.19.5 in /usr/local/lib/python3.10/dist-packages (from scikit-learn) (1.26.4)\n",
            "Requirement already satisfied: scipy>=1.6.0 in /usr/local/lib/python3.10/dist-packages (from scikit-learn) (1.13.1)\n",
            "Requirement already satisfied: joblib>=1.2.0 in /usr/local/lib/python3.10/dist-packages (from scikit-learn) (1.4.2)\n",
            "Requirement already satisfied: threadpoolctl>=3.1.0 in /usr/local/lib/python3.10/dist-packages (from scikit-learn) (3.5.0)\n",
            "Requirement already satisfied: python-dateutil>=2.8.2 in /usr/local/lib/python3.10/dist-packages (from pandas) (2.8.2)\n",
            "Requirement already satisfied: pytz>=2020.1 in /usr/local/lib/python3.10/dist-packages (from pandas) (2024.2)\n",
            "Requirement already satisfied: tzdata>=2022.7 in /usr/local/lib/python3.10/dist-packages (from pandas) (2024.2)\n",
            "Requirement already satisfied: six>=1.5 in /usr/local/lib/python3.10/dist-packages (from python-dateutil>=2.8.2->pandas) (1.16.0)\n",
            "Requirement already satisfied: charset-normalizer<4,>=2 in /usr/local/lib/python3.10/dist-packages (from requests->vaderSentiment) (3.3.2)\n",
            "Requirement already satisfied: idna<4,>=2.5 in /usr/local/lib/python3.10/dist-packages (from requests->vaderSentiment) (3.10)\n",
            "Requirement already satisfied: urllib3<3,>=1.21.1 in /usr/local/lib/python3.10/dist-packages (from requests->vaderSentiment) (2.2.3)\n",
            "Requirement already satisfied: certifi>=2017.4.17 in /usr/local/lib/python3.10/dist-packages (from requests->vaderSentiment) (2024.8.30)\n",
            "Downloading vaderSentiment-3.3.2-py2.py3-none-any.whl (125 kB)\n",
            "\u001b[2K   \u001b[90m━━━━━━━━━━━━━━━━━━━━━━━━━━━━━━━━━━━━━━━━\u001b[0m \u001b[32m126.0/126.0 kB\u001b[0m \u001b[31m2.4 MB/s\u001b[0m eta \u001b[36m0:00:00\u001b[0m\n",
            "\u001b[?25hInstalling collected packages: vaderSentiment\n",
            "Successfully installed vaderSentiment-3.3.2\n"
          ]
        }
      ],
      "source": [
        "!pip install vaderSentiment scikit-learn pandas\n"
      ]
    },
    {
      "cell_type": "code",
      "source": [
        "import pandas as pd\n",
        "\n",
        "# Load the Excel file (assuming the file contains a column 'News URL' with the news links)\n",
        "file_path = '/content/bajaj_finance_news_urls.xlsx'  # Update this path based on your setup\n",
        "df = pd.read_excel(file_path)\n",
        "\n",
        "# Preview the DataFrame\n",
        "print(df.head())\n"
      ],
      "metadata": {
        "colab": {
          "base_uri": "https://localhost:8080/"
        },
        "id": "40I0G-4S-gkS",
        "outputId": "45735ce7-79bc-4459-f951-b971118dca64"
      },
      "execution_count": null,
      "outputs": [
        {
          "output_type": "stream",
          "name": "stdout",
          "text": [
            "                                            News URL  sentiment_score\n",
            "0  https://news.google.com/read/CBMirgFBVV95cUxOZ...           0.9999\n",
            "1  https://news.google.com/read/CBMijgFBVV95cUxPU...           0.9995\n",
            "2  https://news.google.com/read/CBMi0wFBVV95cUxPR...           0.9983\n",
            "3  https://news.google.com/read/CBMixwFBVV95cUxQb...           0.9999\n",
            "4  https://news.google.com/read/CBMiywFBVV95cUxNV...           0.9999\n"
          ]
        }
      ]
    },
    {
      "cell_type": "code",
      "source": [
        "df.info()"
      ],
      "metadata": {
        "colab": {
          "base_uri": "https://localhost:8080/"
        },
        "id": "hrpgNWixe42R",
        "outputId": "36b73e33-121f-41e9-f381-5d563088b8f7"
      },
      "execution_count": null,
      "outputs": [
        {
          "output_type": "stream",
          "name": "stdout",
          "text": [
            "<class 'pandas.core.frame.DataFrame'>\n",
            "RangeIndex: 625 entries, 0 to 624\n",
            "Data columns (total 2 columns):\n",
            " #   Column           Non-Null Count  Dtype  \n",
            "---  ------           --------------  -----  \n",
            " 0   News URL         50 non-null     object \n",
            " 1   sentiment_score  625 non-null    float64\n",
            "dtypes: float64(1), object(1)\n",
            "memory usage: 9.9+ KB\n"
          ]
        }
      ]
    },
    {
      "cell_type": "markdown",
      "source": [],
      "metadata": {
        "id": "Z6MQ8xXWAv4y"
      }
    },
    {
      "cell_type": "code",
      "source": [
        "from vaderSentiment.vaderSentiment import SentimentIntensityAnalyzer\n",
        "\n",
        "# Initialize the VADER sentiment analyzer\n",
        "analyzer = SentimentIntensityAnalyzer()\n",
        "\n",
        "# Apply sentiment analysis to the news content\n",
        "df['sentiment_score'] = df['news_content'].apply(lambda text: analyzer.polarity_scores(text)['compound'])\n",
        "\n",
        "# Preview the DataFrame with sentiment scores\n",
        "print(df[['news_content', 'sentiment_score']].head())\n",
        "output_file_path = 'C:\\\\Users\\\\NEW\\\\Desktop\\\\bajaj_finance_sentiment_scores.xlsx'\n",
        "df.to_excel(output_file_path, index=False)\n"
      ],
      "metadata": {
        "colab": {
          "base_uri": "https://localhost:8080/"
        },
        "id": "WA9CsVaVAF0H",
        "outputId": "4fd46adb-f3b8-49ff-9b17-d653eb7f61fe"
      },
      "execution_count": null,
      "outputs": [
        {
          "output_type": "stream",
          "name": "stdout",
          "text": [
            "                                        news_content  sentiment_score\n",
            "0  Credit Cards Loans Banking Mortgages Insurance...           0.9999\n",
            "1  Credit Cards Loans Banking Mortgages Insurance...           0.9995\n",
            "2  Credit Cards Loans Banking Mortgages Insurance...           0.9983\n",
            "3  Credit Cards Loans Banking Mortgages Insurance...           0.9999\n",
            "4  Credit Cards Loans Banking Mortgages Insurance...           0.9999\n"
          ]
        }
      ]
    },
    {
      "cell_type": "code",
      "source": [
        "pip install yfinance\n"
      ],
      "metadata": {
        "colab": {
          "base_uri": "https://localhost:8080/"
        },
        "id": "YABFetWgYEHw",
        "outputId": "2973525e-2b5e-40ea-d291-91b518f552d3"
      },
      "execution_count": null,
      "outputs": [
        {
          "output_type": "stream",
          "name": "stdout",
          "text": [
            "Requirement already satisfied: yfinance in /usr/local/lib/python3.10/dist-packages (0.2.43)\n",
            "Requirement already satisfied: pandas>=1.3.0 in /usr/local/lib/python3.10/dist-packages (from yfinance) (2.1.4)\n",
            "Requirement already satisfied: numpy>=1.16.5 in /usr/local/lib/python3.10/dist-packages (from yfinance) (1.26.4)\n",
            "Requirement already satisfied: requests>=2.31 in /usr/local/lib/python3.10/dist-packages (from yfinance) (2.32.3)\n",
            "Requirement already satisfied: multitasking>=0.0.7 in /usr/local/lib/python3.10/dist-packages (from yfinance) (0.0.11)\n",
            "Requirement already satisfied: lxml>=4.9.1 in /usr/local/lib/python3.10/dist-packages (from yfinance) (4.9.4)\n",
            "Requirement already satisfied: platformdirs>=2.0.0 in /usr/local/lib/python3.10/dist-packages (from yfinance) (4.3.6)\n",
            "Requirement already satisfied: pytz>=2022.5 in /usr/local/lib/python3.10/dist-packages (from yfinance) (2024.2)\n",
            "Requirement already satisfied: frozendict>=2.3.4 in /usr/local/lib/python3.10/dist-packages (from yfinance) (2.4.4)\n",
            "Requirement already satisfied: peewee>=3.16.2 in /usr/local/lib/python3.10/dist-packages (from yfinance) (3.17.6)\n",
            "Requirement already satisfied: beautifulsoup4>=4.11.1 in /usr/local/lib/python3.10/dist-packages (from yfinance) (4.12.3)\n",
            "Requirement already satisfied: html5lib>=1.1 in /usr/local/lib/python3.10/dist-packages (from yfinance) (1.1)\n",
            "Requirement already satisfied: soupsieve>1.2 in /usr/local/lib/python3.10/dist-packages (from beautifulsoup4>=4.11.1->yfinance) (2.6)\n",
            "Requirement already satisfied: six>=1.9 in /usr/local/lib/python3.10/dist-packages (from html5lib>=1.1->yfinance) (1.16.0)\n",
            "Requirement already satisfied: webencodings in /usr/local/lib/python3.10/dist-packages (from html5lib>=1.1->yfinance) (0.5.1)\n",
            "Requirement already satisfied: python-dateutil>=2.8.2 in /usr/local/lib/python3.10/dist-packages (from pandas>=1.3.0->yfinance) (2.8.2)\n",
            "Requirement already satisfied: tzdata>=2022.1 in /usr/local/lib/python3.10/dist-packages (from pandas>=1.3.0->yfinance) (2024.1)\n",
            "Requirement already satisfied: charset-normalizer<4,>=2 in /usr/local/lib/python3.10/dist-packages (from requests>=2.31->yfinance) (3.3.2)\n",
            "Requirement already satisfied: idna<4,>=2.5 in /usr/local/lib/python3.10/dist-packages (from requests>=2.31->yfinance) (3.10)\n",
            "Requirement already satisfied: urllib3<3,>=1.21.1 in /usr/local/lib/python3.10/dist-packages (from requests>=2.31->yfinance) (2.2.3)\n",
            "Requirement already satisfied: certifi>=2017.4.17 in /usr/local/lib/python3.10/dist-packages (from requests>=2.31->yfinance) (2024.8.30)\n"
          ]
        }
      ]
    },
    {
      "cell_type": "code",
      "source": [
        "import yfinance as yf\n",
        "\n",
        "# Fetch stock price data for Bajaj Finance (BAJFINANCE.NS)\n",
        "stock_data = yf.download('BAJFINANCE.NS', start='2024-01-01', end='2024-08-01')\n",
        "\n",
        "# Preview the stock data\n",
        "print(stock_data.head())\n",
        "\n",
        "# Merge stock data with sentiment data on a common date field (you might need to adjust for timezone and date formats)\n",
        "# Ensure both stock_data and df have a 'Date' column in the same format\n"
      ],
      "metadata": {
        "colab": {
          "base_uri": "https://localhost:8080/"
        },
        "id": "r-e3MLKJblvF",
        "outputId": "be5ffacf-f497-4eb0-9a1e-678da305452b"
      },
      "execution_count": null,
      "outputs": [
        {
          "output_type": "stream",
          "name": "stderr",
          "text": [
            "\r[*********************100%***********************]  1 of 1 completed"
          ]
        },
        {
          "output_type": "stream",
          "name": "stdout",
          "text": [
            "                   Open         High          Low        Close    Adj Close  \\\n",
            "Date                                                                          \n",
            "2024-01-01  7336.950195  7336.950195  7273.000000  7299.049805  7262.590820   \n",
            "2024-01-02  7324.000000  7445.100098  7280.049805  7430.049805  7392.936523   \n",
            "2024-01-03  7444.950195  7485.850098  7368.200195  7384.799805  7347.912598   \n",
            "2024-01-04  7560.000000  7733.950195  7560.000000  7705.549805  7667.060059   \n",
            "2024-01-05  7734.950195  7789.000000  7673.100098  7711.149902  7672.632324   \n",
            "\n",
            "             Volume  \n",
            "Date                 \n",
            "2024-01-01   331489  \n",
            "2024-01-02  1112990  \n",
            "2024-01-03   553405  \n",
            "2024-01-04  2911879  \n",
            "2024-01-05  1052601  \n"
          ]
        },
        {
          "output_type": "stream",
          "name": "stderr",
          "text": [
            "\n"
          ]
        }
      ]
    },
    {
      "cell_type": "code",
      "source": [
        "print(stock_data.columns)\n"
      ],
      "metadata": {
        "colab": {
          "base_uri": "https://localhost:8080/"
        },
        "id": "0s0kpCJhb-tl",
        "outputId": "59a462ec-8a3a-427b-e9f4-4b452d8bce9b"
      },
      "execution_count": null,
      "outputs": [
        {
          "output_type": "stream",
          "name": "stdout",
          "text": [
            "Index(['Open', 'High', 'Low', 'Close', 'Adj Close', 'Volume'], dtype='object')\n"
          ]
        }
      ]
    },
    {
      "cell_type": "code",
      "source": [
        "# Reset the index to move 'Date' from the index to a column\n",
        "stock_data.reset_index(inplace=True)\n",
        "\n",
        "# Check if 'Date' is now a column\n",
        "print(stock_data.head())\n",
        "output_file_path = 'C:\\\\Users\\\\NEW\\\\Desktop\\\\bajaj_finance_stock_data.xlsx'\n",
        "stock_data.to_excel(output_file_path, index=False)\n"
      ],
      "metadata": {
        "colab": {
          "base_uri": "https://localhost:8080/"
        },
        "id": "2ixgv3H9cDfO",
        "outputId": "a50bea4e-d271-4479-e54b-afb00c206f49"
      },
      "execution_count": null,
      "outputs": [
        {
          "output_type": "stream",
          "name": "stdout",
          "text": [
            "        Date         Open         High          Low        Close    Adj Close  \\\n",
            "0 2024-01-01  7336.950195  7336.950195  7273.000000  7299.049805  7262.590820   \n",
            "1 2024-01-02  7324.000000  7445.100098  7280.049805  7430.049805  7392.936523   \n",
            "2 2024-01-03  7444.950195  7485.850098  7368.200195  7384.799805  7347.912598   \n",
            "3 2024-01-04  7560.000000  7733.950195  7560.000000  7705.549805  7667.060059   \n",
            "4 2024-01-05  7734.950195  7789.000000  7673.100098  7711.149902  7672.632324   \n",
            "\n",
            "    Volume  \n",
            "0   331489  \n",
            "1  1112990  \n",
            "2   553405  \n",
            "3  2911879  \n",
            "4  1052601  \n"
          ]
        }
      ]
    },
    {
      "cell_type": "code",
      "source": [
        "# Reset index for stock_data if 'Date' is the index\n",
        "if 'Date' not in stock_data.columns:\n",
        "    stock_data.reset_index(inplace=True)\n",
        "\n",
        "# Ensure the 'Date' column is present in stock_data\n",
        "print(stock_data.columns)\n"
      ],
      "metadata": {
        "colab": {
          "base_uri": "https://localhost:8080/"
        },
        "id": "ovoaKxykce3M",
        "outputId": "39d037e2-4bca-42e6-b59b-8582083b3615"
      },
      "execution_count": null,
      "outputs": [
        {
          "output_type": "stream",
          "name": "stdout",
          "text": [
            "Index(['Date', 'Open', 'High', 'Low', 'Close', 'Adj Close', 'Volume'], dtype='object')\n"
          ]
        }
      ]
    },
    {
      "cell_type": "code",
      "source": [
        "stock_data['Date'] = pd.to_datetime(stock_data['Date'], errors='coerce')\n",
        "df['published_at'] = pd.to_datetime(df['published_at'], errors='coerce')\n",
        "\n",
        "# Check if the conversion was successful\n",
        "print(stock_data[['Date']].head())\n",
        "print(df[['published_at']].head())"
      ],
      "metadata": {
        "colab": {
          "base_uri": "https://localhost:8080/"
        },
        "id": "_kxnVL6Mcn7W",
        "outputId": "78d3b206-6c0d-4459-ad03-8728c0bcf36f"
      },
      "execution_count": null,
      "outputs": [
        {
          "output_type": "stream",
          "name": "stdout",
          "text": [
            "        Date\n",
            "0 2023-01-02\n",
            "1 2023-01-03\n",
            "2 2023-01-04\n",
            "3 2023-01-05\n",
            "4 2023-01-06\n",
            "                published_at\n",
            "0  2021-09-29 17:09:39+00:00\n",
            "1  2016-06-24 13:50:48-04:00\n",
            "2  2014-03-25 13:29:45-04:00\n",
            "3  2009-04-22 19:49:03+00:00\n",
            "4  2018-04-14 14:59:04+00:00\n"
          ]
        },
        {
          "output_type": "stream",
          "name": "stderr",
          "text": [
            "<ipython-input-50-2d2fad5589e6>:2: FutureWarning: In a future version of pandas, parsing datetimes with mixed time zones will raise an error unless `utc=True`. Please specify `utc=True` to opt in to the new behaviour and silence this warning. To create a `Series` with mixed offsets and `object` dtype, please use `apply` and `datetime.datetime.strptime`\n",
            "  df['published_at'] = pd.to_datetime(df['published_at'], errors='coerce')\n"
          ]
        }
      ]
    },
    {
      "cell_type": "code",
      "source": [
        "# Convert 'published_at' to datetime and remove timezone information\n",
        "df['published_at'] = pd.to_datetime(df['published_at']).dt.tz_localize(None)\n",
        "\n",
        "# Ensure stock_data['Date'] is also in datetime format\n",
        "stock_data['Date'] = pd.to_datetime(stock_data.index)\n",
        "\n",
        "# Merge stock prices with news sentiment on 'Date'\n",
        "combined_data = pd.merge(stock_data, df[['published_at', 'sentiment_score']], left_on='Date', right_on='published_at', how='inner')\n",
        "\n",
        "# Preview combined data\n",
        "print(combined_data.head())\n"
      ],
      "metadata": {
        "colab": {
          "base_uri": "https://localhost:8080/"
        },
        "id": "RL3x3LdoeWqM",
        "outputId": "50028ddf-08c2-4e58-a656-1bf9d46d5f1e"
      },
      "execution_count": null,
      "outputs": [
        {
          "output_type": "stream",
          "name": "stdout",
          "text": [
            "Empty DataFrame\n",
            "Columns: [Date, Open, High, Low, Close, Adj Close, Volume, published_at, sentiment_score]\n",
            "Index: []\n"
          ]
        }
      ]
    },
    {
      "cell_type": "code",
      "source": [
        "# Convert 'published_at' to datetime and remove timezone information\n",
        "df['published_at'] = pd.to_datetime(df['published_at']).dt.tz_localize(None)\n",
        "\n",
        "# Ensure stock_data['Date'] is also in datetime format and remove timezone\n",
        "stock_data['Date'] = pd.to_datetime(stock_data.index).tz_localize(None)\n",
        "\n",
        "# Merge stock prices with news sentiment on 'Date'\n",
        "combined_data = pd.merge(stock_data, df[['published_at', 'sentiment_score']], left_on='Date', right_on='published_at', how='inner')\n",
        "\n",
        "# Preview combined data\n",
        "print(combined_data.head())\n"
      ],
      "metadata": {
        "colab": {
          "base_uri": "https://localhost:8080/"
        },
        "id": "tmfnOZ5Det8W",
        "outputId": "bac5f03c-d724-41aa-dd19-4477fd8a7bca"
      },
      "execution_count": null,
      "outputs": [
        {
          "output_type": "stream",
          "name": "stdout",
          "text": [
            "Empty DataFrame\n",
            "Columns: [Date, Open, High, Low, Close, Adj Close, Volume, published_at, sentiment_score]\n",
            "Index: []\n"
          ]
        }
      ]
    },
    {
      "cell_type": "code",
      "source": [
        "# Convert 'published_at' to datetime and remove timezone information\n",
        "df['published_at'] = pd.to_datetime(df['published_at'], errors='coerce').dt.tz_localize(None)\n",
        "\n",
        "# Check the conversion result\n",
        "print(df['published_at'].head())\n",
        "print(df['published_at'].dtypes)  # Ensure it is datetime\n"
      ],
      "metadata": {
        "colab": {
          "base_uri": "https://localhost:8080/"
        },
        "id": "3EAuJjSTfDdc",
        "outputId": "0eab4487-e341-4013-801d-e8afe8f93d73"
      },
      "execution_count": null,
      "outputs": [
        {
          "output_type": "stream",
          "name": "stdout",
          "text": [
            "0   2021-09-29 17:09:39\n",
            "1                   NaT\n",
            "2                   NaT\n",
            "3   2009-04-22 19:49:03\n",
            "4   2018-04-14 14:59:04\n",
            "Name: published_at, dtype: datetime64[ns]\n",
            "datetime64[ns]\n"
          ]
        }
      ]
    },
    {
      "cell_type": "code",
      "source": [
        "df.info()"
      ],
      "metadata": {
        "colab": {
          "base_uri": "https://localhost:8080/"
        },
        "id": "zwJxKBDQfGis",
        "outputId": "6d01acd0-4e25-42e6-97ed-8f4199518b4b"
      },
      "execution_count": null,
      "outputs": [
        {
          "output_type": "stream",
          "name": "stdout",
          "text": [
            "<class 'pandas.core.frame.DataFrame'>\n",
            "RangeIndex: 625 entries, 0 to 624\n",
            "Data columns (total 13 columns):\n",
            " #   Column             Non-Null Count  Dtype         \n",
            "---  ------             --------------  -----         \n",
            " 0   title              625 non-null    object        \n",
            " 1   url                625 non-null    object        \n",
            " 2   published_at       613 non-null    datetime64[ns]\n",
            " 3   author             397 non-null    object        \n",
            " 4   publisher          625 non-null    object        \n",
            " 5   short_description  609 non-null    object        \n",
            " 6   keywords           625 non-null    object        \n",
            " 7   header_image       625 non-null    object        \n",
            " 8   raw_description    594 non-null    object        \n",
            " 9   description        593 non-null    object        \n",
            " 10  scraped_at         625 non-null    object        \n",
            " 11  news_content       625 non-null    object        \n",
            " 12  sentiment_score    625 non-null    float64       \n",
            "dtypes: datetime64[ns](1), float64(1), object(11)\n",
            "memory usage: 63.6+ KB\n"
          ]
        }
      ]
    },
    {
      "cell_type": "code",
      "source": [
        "pip install openpyxl\n"
      ],
      "metadata": {
        "colab": {
          "base_uri": "https://localhost:8080/"
        },
        "id": "5EQCD7oKfIzS",
        "outputId": "aedf62c6-b119-43e0-ad86-2a47e74d7ac0"
      },
      "execution_count": null,
      "outputs": [
        {
          "output_type": "stream",
          "name": "stdout",
          "text": [
            "Requirement already satisfied: openpyxl in /usr/local/lib/python3.10/dist-packages (3.1.5)\n",
            "Requirement already satisfied: et-xmlfile in /usr/local/lib/python3.10/dist-packages (from openpyxl) (1.1.0)\n"
          ]
        }
      ]
    },
    {
      "cell_type": "code",
      "source": [
        "import pandas as pd\n",
        "\n",
        "# Save the combined data to an Excel file\n",
        "output_path = 'combined_data.xlsx'  # You can change the filename and path as needed\n",
        "combined_data.to_excel(output_path, index=False)\n",
        "\n",
        "print(f\"Combined data saved to {output_path}\")\n"
      ],
      "metadata": {
        "colab": {
          "base_uri": "https://localhost:8080/"
        },
        "id": "mXviaAxofjrj",
        "outputId": "e5378935-fb03-4a41-9b5b-2a01a266aa70"
      },
      "execution_count": null,
      "outputs": [
        {
          "output_type": "stream",
          "name": "stdout",
          "text": [
            "Combined data saved to combined_data.xlsx\n"
          ]
        }
      ]
    },
    {
      "cell_type": "code",
      "source": [
        "# Check the date range in stock_data\n",
        "print(\"Stock Data Date Range:\")\n",
        "print(stock_data['Date'].min(), stock_data['Date'].max())\n",
        "\n",
        "# Check the date range in df\n",
        "print(\"News Data Date Range:\")\n",
        "print(df['published_at'].min(), df['published_at'].max())\n"
      ],
      "metadata": {
        "colab": {
          "base_uri": "https://localhost:8080/"
        },
        "id": "VuOOrRN2gPoD",
        "outputId": "915745e0-e1dd-44a1-ef2d-83665e849dfc"
      },
      "execution_count": null,
      "outputs": [
        {
          "output_type": "stream",
          "name": "stdout",
          "text": [
            "Stock Data Date Range:\n",
            "1970-01-01 00:00:00 1970-01-01 00:00:00.000000244\n",
            "News Data Date Range:\n",
            "2006-12-04 19:51:48 2021-10-18 08:00:25\n"
          ]
        }
      ]
    },
    {
      "cell_type": "code",
      "source": [
        "# Display first few dates from stock_data\n",
        "print(\"First few dates in stock_data:\")\n",
        "print(stock_data['Date'].head())\n",
        "\n",
        "# Display first few dates from df\n",
        "print(\"First few published_at dates in df:\")\n",
        "print(df['published_at'].head())\n"
      ],
      "metadata": {
        "colab": {
          "base_uri": "https://localhost:8080/"
        },
        "id": "PBLDgLuegQX3",
        "outputId": "e07c795c-a060-4af6-ccb4-19a2e619ed2e"
      },
      "execution_count": null,
      "outputs": [
        {
          "output_type": "stream",
          "name": "stdout",
          "text": [
            "First few dates in stock_data:\n",
            "0   1970-01-01 00:00:00.000000000\n",
            "1   1970-01-01 00:00:00.000000001\n",
            "2   1970-01-01 00:00:00.000000002\n",
            "3   1970-01-01 00:00:00.000000003\n",
            "4   1970-01-01 00:00:00.000000004\n",
            "Name: Date, dtype: datetime64[ns]\n",
            "First few published_at dates in df:\n",
            "0   2021-09-29 17:09:39\n",
            "1                   NaT\n",
            "2                   NaT\n",
            "3   2009-04-22 19:49:03\n",
            "4   2018-04-14 14:59:04\n",
            "Name: published_at, dtype: datetime64[ns]\n"
          ]
        }
      ]
    },
    {
      "cell_type": "code",
      "source": [
        "# Check data types\n",
        "print(\"Data type of stock_data['Date']:\", stock_data['Date'].dtype)\n",
        "print(\"Data type of df['published_at']:\", df['published_at'].dtype)\n"
      ],
      "metadata": {
        "colab": {
          "base_uri": "https://localhost:8080/"
        },
        "id": "DuZr3yN-gZs6",
        "outputId": "1864be1d-d0a5-4ada-b1b2-a08685eac2c6"
      },
      "execution_count": null,
      "outputs": [
        {
          "output_type": "stream",
          "name": "stdout",
          "text": [
            "Data type of stock_data['Date']: datetime64[ns]\n",
            "Data type of df['published_at']: datetime64[ns]\n"
          ]
        }
      ]
    },
    {
      "cell_type": "code",
      "source": [
        "# Unique dates in stock_data\n",
        "unique_stock_dates = set(stock_data['Date'].dt.date)\n",
        "print(\"Unique stock dates:\", unique_stock_dates)\n",
        "\n",
        "# Unique dates in df\n",
        "unique_news_dates = set(df['published_at'].dt.date)\n",
        "print(\"Unique news dates:\", unique_news_dates)\n",
        "\n",
        "# Check intersection\n",
        "print(\"Common dates:\", unique_stock_dates.intersection(unique_news_dates))\n"
      ],
      "metadata": {
        "colab": {
          "base_uri": "https://localhost:8080/"
        },
        "id": "udGK2ss6gdEG",
        "outputId": "de1ecc98-0462-4ce4-d995-a7877959d614"
      },
      "execution_count": null,
      "outputs": [
        {
          "output_type": "stream",
          "name": "stdout",
          "text": [
            "Unique stock dates: {datetime.date(1970, 1, 1)}\n",
            "Unique news dates: {NaT, datetime.date(2017, 6, 16), datetime.date(2006, 12, 14), datetime.date(2007, 10, 29), datetime.date(2017, 3, 12), datetime.date(2010, 3, 19), datetime.date(2019, 10, 24), datetime.date(2014, 11, 29), datetime.date(2016, 5, 18), datetime.date(2018, 6, 22), datetime.date(2012, 10, 10), datetime.date(2014, 7, 18), datetime.date(2016, 12, 7), datetime.date(2013, 2, 25), datetime.date(2016, 8, 11), datetime.date(2016, 1, 20), datetime.date(2007, 3, 16), datetime.date(2011, 8, 16), datetime.date(2014, 3, 19), datetime.date(2017, 3, 15), datetime.date(2006, 12, 4), datetime.date(2014, 6, 3), datetime.date(2018, 2, 28), datetime.date(2014, 12, 18), datetime.date(2016, 3, 16), datetime.date(2015, 11, 24), datetime.date(2012, 8, 9), datetime.date(2008, 1, 3), datetime.date(2007, 2, 16), datetime.date(2019, 11, 8), datetime.date(2021, 6, 17), datetime.date(2008, 6, 26), datetime.date(2009, 9, 25), datetime.date(2013, 11, 7), datetime.date(2012, 11, 2), datetime.date(2007, 5, 4), datetime.date(2016, 11, 8), datetime.date(2020, 7, 28), datetime.date(2008, 6, 9), datetime.date(2011, 2, 7), datetime.date(2010, 4, 7), datetime.date(2019, 6, 9), datetime.date(2021, 3, 30), datetime.date(2011, 10, 27), datetime.date(2020, 12, 30), datetime.date(2021, 3, 22), datetime.date(2019, 8, 21), datetime.date(2009, 3, 13), datetime.date(2016, 6, 6), datetime.date(2019, 11, 5), datetime.date(2019, 5, 29), datetime.date(2021, 10, 18), datetime.date(2014, 4, 24), datetime.date(2013, 7, 15), datetime.date(2017, 12, 1), datetime.date(2016, 12, 14), datetime.date(2013, 7, 28), datetime.date(2017, 7, 24), datetime.date(2007, 1, 18), datetime.date(2010, 10, 8), datetime.date(2014, 5, 29), datetime.date(2016, 12, 12), datetime.date(2019, 8, 9), datetime.date(2020, 5, 2), datetime.date(2013, 10, 22), datetime.date(2018, 10, 3), datetime.date(2014, 12, 5), datetime.date(2007, 11, 12), datetime.date(2013, 12, 31), datetime.date(2017, 8, 4), datetime.date(2018, 1, 11), datetime.date(2010, 5, 5), datetime.date(2017, 11, 21), datetime.date(2012, 8, 30), datetime.date(2008, 12, 17), datetime.date(2019, 3, 25), datetime.date(2016, 12, 20), datetime.date(2019, 5, 31), datetime.date(2012, 10, 26), datetime.date(2017, 9, 19), datetime.date(2016, 8, 20), datetime.date(2011, 3, 2), datetime.date(2021, 2, 11), datetime.date(2007, 11, 6), datetime.date(2020, 10, 14), datetime.date(2008, 6, 2), datetime.date(2021, 5, 11), datetime.date(2012, 4, 18), datetime.date(2016, 7, 8), datetime.date(2019, 1, 11), datetime.date(2007, 4, 16), datetime.date(2016, 5, 19), datetime.date(2015, 1, 8), datetime.date(2007, 12, 17), datetime.date(2017, 5, 18), datetime.date(2019, 10, 9), datetime.date(2016, 3, 10), datetime.date(2010, 11, 12), datetime.date(2007, 7, 19), datetime.date(2014, 2, 25), datetime.date(2019, 4, 30), datetime.date(2012, 9, 10), datetime.date(2011, 8, 26), datetime.date(2016, 7, 21), datetime.date(2014, 3, 18), datetime.date(2014, 5, 8), datetime.date(2012, 10, 25), datetime.date(2011, 7, 1), datetime.date(2017, 5, 30), datetime.date(2014, 4, 7), datetime.date(2018, 12, 7), datetime.date(2015, 8, 21), datetime.date(2018, 2, 26), datetime.date(2014, 1, 20), datetime.date(2011, 8, 28), datetime.date(2016, 9, 13), datetime.date(2016, 3, 14), datetime.date(2017, 2, 3), datetime.date(2019, 1, 30), datetime.date(2016, 10, 4), datetime.date(2008, 1, 24), datetime.date(2008, 10, 22), datetime.date(2010, 8, 19), datetime.date(2013, 10, 18), datetime.date(2018, 3, 23), datetime.date(2008, 3, 14), datetime.date(2016, 11, 10), datetime.date(2010, 9, 7), datetime.date(2011, 9, 12), datetime.date(2018, 6, 6), datetime.date(2020, 4, 23), datetime.date(2008, 7, 18), datetime.date(2017, 1, 24), datetime.date(2011, 1, 28), datetime.date(2011, 9, 7), datetime.date(2020, 6, 15), datetime.date(2014, 6, 13), datetime.date(2017, 10, 12), datetime.date(2019, 5, 5), datetime.date(2020, 2, 28), datetime.date(2015, 9, 17), datetime.date(2018, 2, 1), datetime.date(2011, 6, 11), datetime.date(2011, 1, 12), datetime.date(2012, 10, 4), datetime.date(2014, 5, 24), datetime.date(2014, 4, 23), datetime.date(2007, 7, 26), datetime.date(2014, 10, 6), datetime.date(2020, 9, 6), datetime.date(2015, 9, 28), datetime.date(2015, 2, 13), datetime.date(2011, 11, 18), datetime.date(2013, 9, 26), datetime.date(2011, 8, 2), datetime.date(2017, 3, 28), datetime.date(2011, 9, 19), datetime.date(2007, 2, 27), datetime.date(2018, 12, 20), datetime.date(2011, 4, 14), datetime.date(2010, 6, 28), datetime.date(2013, 1, 24), datetime.date(2017, 4, 12), datetime.date(2012, 10, 24), datetime.date(2019, 6, 13), datetime.date(2014, 2, 12), datetime.date(2021, 5, 7), datetime.date(2017, 5, 26), datetime.date(2011, 6, 30), datetime.date(2013, 5, 31), datetime.date(2009, 8, 17), datetime.date(2017, 2, 9), datetime.date(2019, 9, 24), datetime.date(2018, 11, 5), datetime.date(2015, 6, 12), datetime.date(2020, 6, 29), datetime.date(2012, 10, 8), datetime.date(2012, 10, 1), datetime.date(2008, 6, 13), datetime.date(2014, 5, 12), datetime.date(2013, 3, 11), datetime.date(2017, 10, 30), datetime.date(2007, 4, 20), datetime.date(2021, 7, 27), datetime.date(2020, 9, 16), datetime.date(2007, 7, 18), datetime.date(2012, 10, 5), datetime.date(2015, 3, 29), datetime.date(2021, 8, 29), datetime.date(2016, 1, 4), datetime.date(2018, 6, 12), datetime.date(2017, 3, 14), datetime.date(2020, 5, 4), datetime.date(2021, 2, 5), datetime.date(2012, 3, 26), datetime.date(2012, 7, 10), datetime.date(2014, 9, 13), datetime.date(2008, 12, 29), datetime.date(2008, 9, 9), datetime.date(2016, 3, 22), datetime.date(2009, 4, 22), datetime.date(2019, 8, 6), datetime.date(2016, 7, 15), datetime.date(2015, 9, 25), datetime.date(2007, 3, 8), datetime.date(2020, 5, 26), datetime.date(2008, 10, 23), datetime.date(2020, 12, 10), datetime.date(2016, 12, 6), datetime.date(2010, 9, 28), datetime.date(2013, 8, 21), datetime.date(2017, 10, 9), datetime.date(2012, 10, 9), datetime.date(2018, 1, 9), datetime.date(2015, 11, 23), datetime.date(2015, 9, 21), datetime.date(2020, 10, 16), datetime.date(2012, 7, 26), datetime.date(2017, 12, 13), datetime.date(2021, 4, 5), datetime.date(2014, 11, 25), datetime.date(2017, 10, 23), datetime.date(2013, 10, 24), datetime.date(2011, 6, 27), datetime.date(2008, 3, 4), datetime.date(2009, 2, 18), datetime.date(2008, 10, 16), datetime.date(2013, 5, 6), datetime.date(2012, 10, 13), datetime.date(2021, 3, 15), datetime.date(2008, 12, 5), datetime.date(2009, 7, 14), datetime.date(2017, 4, 27), datetime.date(2019, 8, 22), datetime.date(2013, 10, 25), datetime.date(2016, 6, 20), datetime.date(2015, 1, 26), datetime.date(2015, 1, 20), datetime.date(2016, 9, 28), datetime.date(2017, 11, 20), datetime.date(2014, 2, 4), datetime.date(2016, 10, 18), datetime.date(2014, 7, 31), datetime.date(2012, 1, 18), datetime.date(2016, 7, 22), datetime.date(2011, 10, 7), datetime.date(2011, 1, 27), datetime.date(2019, 10, 15), datetime.date(2015, 7, 24), datetime.date(2012, 11, 3), datetime.date(2019, 5, 14), datetime.date(2020, 2, 14), datetime.date(2013, 2, 13), datetime.date(2020, 10, 30), datetime.date(2018, 10, 31), datetime.date(2012, 11, 5), datetime.date(2015, 9, 8), datetime.date(2015, 5, 13), datetime.date(2011, 10, 21), datetime.date(2012, 6, 22), datetime.date(2015, 3, 25), datetime.date(2009, 2, 9), datetime.date(2012, 5, 17), datetime.date(2017, 5, 28), datetime.date(2015, 3, 19), datetime.date(2017, 6, 14), datetime.date(2009, 10, 22), datetime.date(2016, 1, 25), datetime.date(2017, 9, 20), datetime.date(2019, 8, 1), datetime.date(2018, 4, 11), datetime.date(2019, 2, 1), datetime.date(2010, 5, 19), datetime.date(2019, 9, 8), datetime.date(2020, 6, 9), datetime.date(2014, 12, 3), datetime.date(2011, 11, 28), datetime.date(2018, 10, 19), datetime.date(2013, 4, 9), datetime.date(2014, 12, 1), datetime.date(2010, 8, 24), datetime.date(2014, 10, 2), datetime.date(2012, 5, 25), datetime.date(2017, 7, 19), datetime.date(2011, 7, 6), datetime.date(2010, 7, 8), datetime.date(2018, 11, 30), datetime.date(2012, 1, 23), datetime.date(2012, 4, 16), datetime.date(2009, 7, 28), datetime.date(2017, 2, 14), datetime.date(2012, 1, 25), datetime.date(2015, 8, 10), datetime.date(2020, 12, 4), datetime.date(2015, 8, 6), datetime.date(2020, 1, 15), datetime.date(2011, 5, 19), datetime.date(2008, 1, 11), datetime.date(2011, 12, 16), datetime.date(2015, 4, 28), datetime.date(2014, 1, 26), datetime.date(2007, 9, 12), datetime.date(2018, 5, 9), datetime.date(2009, 7, 6), datetime.date(2015, 5, 11), datetime.date(2015, 10, 22), datetime.date(2016, 12, 17), datetime.date(2016, 6, 30), datetime.date(2015, 1, 23), datetime.date(2019, 6, 4), datetime.date(2013, 2, 26), datetime.date(2010, 1, 29), datetime.date(2019, 9, 26), datetime.date(2008, 6, 11), datetime.date(2020, 1, 27), datetime.date(2017, 1, 30), datetime.date(2016, 4, 28), datetime.date(2017, 11, 7), datetime.date(2020, 3, 18), datetime.date(2019, 1, 10), datetime.date(2019, 9, 5), datetime.date(2016, 9, 20), datetime.date(2017, 10, 24), datetime.date(2011, 10, 25), datetime.date(2009, 4, 20), datetime.date(2012, 4, 5), datetime.date(2011, 3, 31), datetime.date(2009, 9, 15), datetime.date(2012, 12, 7), datetime.date(2007, 8, 16), datetime.date(2009, 11, 27), datetime.date(2015, 7, 4), datetime.date(2017, 3, 7), datetime.date(2007, 4, 30), datetime.date(2019, 2, 11), datetime.date(2015, 5, 9), datetime.date(2015, 10, 20), datetime.date(2021, 8, 19), datetime.date(2018, 2, 13), datetime.date(2016, 2, 5), datetime.date(2020, 6, 23), datetime.date(2007, 7, 27), datetime.date(2014, 11, 12), datetime.date(2011, 9, 26), datetime.date(2019, 3, 3), datetime.date(2014, 8, 25), datetime.date(2012, 10, 2), datetime.date(2013, 4, 22), datetime.date(2008, 3, 18), datetime.date(2015, 3, 20), datetime.date(2011, 5, 3), datetime.date(2021, 1, 19), datetime.date(2017, 7, 31), datetime.date(2015, 6, 20), datetime.date(2018, 4, 24), datetime.date(2017, 2, 10), datetime.date(2019, 3, 21), datetime.date(2021, 9, 29), datetime.date(2014, 2, 7), datetime.date(2018, 6, 7), datetime.date(2016, 9, 9), datetime.date(2017, 6, 26), datetime.date(2010, 7, 19), datetime.date(2007, 5, 9), datetime.date(2008, 5, 15), datetime.date(2015, 7, 29), datetime.date(2011, 3, 30), datetime.date(2015, 6, 16), datetime.date(2016, 10, 12), datetime.date(2007, 5, 17), datetime.date(2015, 12, 27), datetime.date(2017, 9, 6), datetime.date(2009, 8, 20), datetime.date(2017, 8, 30), datetime.date(2020, 4, 13), datetime.date(2020, 8, 3), datetime.date(2016, 2, 29), datetime.date(2015, 10, 16), datetime.date(2019, 5, 13), datetime.date(2011, 7, 20), datetime.date(2021, 4, 19), datetime.date(2012, 9, 24), datetime.date(2010, 1, 4), datetime.date(2018, 11, 7), datetime.date(2020, 12, 23), datetime.date(2018, 8, 1), datetime.date(2020, 8, 18), datetime.date(2008, 8, 6), datetime.date(2019, 11, 6), datetime.date(2014, 3, 25), datetime.date(2009, 3, 14), datetime.date(2020, 4, 27), datetime.date(2020, 11, 18), datetime.date(2009, 10, 30), datetime.date(2013, 6, 21), datetime.date(2008, 12, 2), datetime.date(2008, 5, 27), datetime.date(2014, 5, 13), datetime.date(2017, 2, 2), datetime.date(2018, 8, 9), datetime.date(2021, 2, 19), datetime.date(2009, 5, 29), datetime.date(2013, 10, 4), datetime.date(2018, 4, 14), datetime.date(2014, 8, 18), datetime.date(2021, 9, 9), datetime.date(2013, 5, 20), datetime.date(2020, 6, 26), datetime.date(2017, 3, 13), datetime.date(2019, 9, 9), datetime.date(2012, 4, 17), datetime.date(2007, 10, 3), datetime.date(2016, 9, 23), datetime.date(2011, 2, 18), datetime.date(2011, 6, 13), datetime.date(2016, 3, 8), datetime.date(2007, 7, 5), datetime.date(2015, 10, 14), datetime.date(2020, 6, 12), datetime.date(2010, 7, 26), datetime.date(2019, 3, 27), datetime.date(2016, 11, 21), datetime.date(2020, 3, 31), datetime.date(2012, 10, 12), datetime.date(2020, 10, 2), datetime.date(2020, 4, 8), datetime.date(2014, 8, 21), datetime.date(2012, 8, 20), datetime.date(2013, 2, 28), datetime.date(2016, 9, 19), datetime.date(2013, 4, 18), datetime.date(2021, 5, 5), datetime.date(2015, 8, 24), datetime.date(2019, 12, 5), datetime.date(2021, 8, 1), datetime.date(2011, 2, 17), datetime.date(2019, 9, 19), datetime.date(2013, 12, 6), datetime.date(2015, 8, 3), datetime.date(2011, 6, 7), datetime.date(2021, 6, 3), datetime.date(2013, 9, 25), datetime.date(2014, 6, 12), datetime.date(2020, 12, 17), datetime.date(2015, 2, 12), datetime.date(2021, 6, 23), datetime.date(2017, 12, 7), datetime.date(2020, 2, 20), datetime.date(2013, 8, 16), datetime.date(2010, 3, 4), datetime.date(2013, 5, 13), datetime.date(2006, 12, 27), datetime.date(2011, 9, 28), datetime.date(2017, 1, 20), datetime.date(2008, 8, 29), datetime.date(2020, 1, 22), datetime.date(2020, 7, 30), datetime.date(2017, 3, 8), datetime.date(2010, 1, 28), datetime.date(2011, 8, 19), datetime.date(2014, 4, 22), datetime.date(2012, 6, 11), datetime.date(2014, 11, 13), datetime.date(2019, 11, 25), datetime.date(2015, 10, 30), datetime.date(2017, 4, 11), datetime.date(2007, 11, 20), datetime.date(2017, 11, 6), datetime.date(2013, 4, 17), datetime.date(2016, 9, 29), datetime.date(2012, 12, 10), datetime.date(2011, 11, 17), datetime.date(2010, 3, 5), datetime.date(2013, 11, 29), datetime.date(2021, 1, 5), datetime.date(2009, 8, 7), datetime.date(2017, 3, 9), datetime.date(2013, 5, 14), datetime.date(2013, 7, 17), datetime.date(2012, 10, 3), datetime.date(2008, 6, 30), datetime.date(2015, 1, 16), datetime.date(2021, 5, 12), datetime.date(2019, 1, 21), datetime.date(2014, 7, 11), datetime.date(2015, 10, 12), datetime.date(2019, 6, 27), datetime.date(2020, 11, 12), datetime.date(2017, 7, 10), datetime.date(2015, 10, 6), datetime.date(2020, 12, 28), datetime.date(2010, 2, 23), datetime.date(2010, 11, 8), datetime.date(2019, 1, 8), datetime.date(2021, 2, 22), datetime.date(2009, 1, 15), datetime.date(2012, 10, 11), datetime.date(2009, 4, 1), datetime.date(2013, 11, 22), datetime.date(2014, 7, 3), datetime.date(2007, 11, 19), datetime.date(2020, 2, 6), datetime.date(2013, 8, 12), datetime.date(2008, 3, 5), datetime.date(2010, 11, 30), datetime.date(2007, 9, 4), datetime.date(2014, 1, 2), datetime.date(2019, 8, 25), datetime.date(2015, 9, 16), datetime.date(2012, 1, 11), datetime.date(2020, 4, 6), datetime.date(2007, 3, 15), datetime.date(2012, 10, 19), datetime.date(2020, 9, 29), datetime.date(2012, 7, 18), datetime.date(2019, 6, 30), datetime.date(2017, 11, 8), datetime.date(2012, 12, 12), datetime.date(2016, 11, 11), datetime.date(2016, 9, 22), datetime.date(2006, 12, 26), datetime.date(2012, 3, 16), datetime.date(2010, 2, 3), datetime.date(2010, 7, 15), datetime.date(2010, 3, 3), datetime.date(2014, 8, 26), datetime.date(2015, 1, 21), datetime.date(2020, 6, 1), datetime.date(2019, 12, 19), datetime.date(2019, 3, 12), datetime.date(2020, 9, 17), datetime.date(2010, 8, 4), datetime.date(2007, 11, 14), datetime.date(2018, 3, 2), datetime.date(2014, 3, 10), datetime.date(2016, 9, 25), datetime.date(2012, 2, 15), datetime.date(2016, 11, 30), datetime.date(2019, 2, 8), datetime.date(2017, 5, 5), datetime.date(2011, 6, 19), datetime.date(2012, 11, 1), datetime.date(2017, 4, 6), datetime.date(2008, 10, 17), datetime.date(2015, 4, 10), datetime.date(2008, 5, 7), datetime.date(2018, 3, 20), datetime.date(2011, 7, 18), datetime.date(2021, 7, 22), datetime.date(2015, 4, 13), datetime.date(2019, 7, 28), datetime.date(2017, 8, 11), datetime.date(2021, 9, 3), datetime.date(2013, 3, 25)}\n",
            "Common dates: set()\n"
          ]
        }
      ]
    },
    {
      "cell_type": "code",
      "source": [
        "import pandas as pd\n",
        "\n",
        "# Assuming you have two DataFrames: stock_data and news_data\n",
        "# Replace `your_stock_data` and `your_news_data` with your actual DataFrames\n",
        "\n",
        "# Remove invalid stock dates\n",
        "stock_data_cleaned = stock_data[stock_data['Date'] != pd.Timestamp('1970-01-01')]\n",
        "\n",
        "# Remove rows with NaT in news data\n",
        "news_data_cleaned = df.dropna(subset=['published_at'])\n",
        "\n",
        "# Convert dates to datetime.date if they are not already\n",
        "stock_data_cleaned['Date'] = pd.to_datetime(stock_data_cleaned['Date']).dt.date\n",
        "news_data_cleaned['published_at'] = pd.to_datetime(news_data_cleaned['published_at']).dt.date\n",
        "\n",
        "# Now, you can check unique dates again\n",
        "unique_stock_dates = set(stock_data_cleaned['Date'])\n",
        "unique_news_dates = set(news_data_cleaned['published_at'])\n",
        "\n",
        "print(\"Unique stock dates:\", unique_stock_dates)\n",
        "print(\"Unique news dates:\", unique_news_dates)\n"
      ],
      "metadata": {
        "colab": {
          "base_uri": "https://localhost:8080/"
        },
        "id": "989OTBTrg1ue",
        "outputId": "20768c2a-1636-4db6-c2ff-791beab751bf"
      },
      "execution_count": null,
      "outputs": [
        {
          "output_type": "stream",
          "name": "stdout",
          "text": [
            "Unique stock dates: {datetime.date(1970, 1, 1)}\n",
            "Unique news dates: {datetime.date(2017, 6, 16), datetime.date(2006, 12, 14), datetime.date(2007, 10, 29), datetime.date(2017, 3, 12), datetime.date(2010, 3, 19), datetime.date(2019, 10, 24), datetime.date(2014, 11, 29), datetime.date(2016, 5, 18), datetime.date(2018, 6, 22), datetime.date(2012, 10, 10), datetime.date(2014, 7, 18), datetime.date(2016, 12, 7), datetime.date(2013, 2, 25), datetime.date(2016, 8, 11), datetime.date(2016, 1, 20), datetime.date(2007, 3, 16), datetime.date(2011, 8, 16), datetime.date(2014, 3, 19), datetime.date(2017, 3, 15), datetime.date(2006, 12, 4), datetime.date(2014, 6, 3), datetime.date(2018, 2, 28), datetime.date(2014, 12, 18), datetime.date(2016, 3, 16), datetime.date(2015, 11, 24), datetime.date(2012, 8, 9), datetime.date(2008, 1, 3), datetime.date(2007, 2, 16), datetime.date(2019, 11, 8), datetime.date(2021, 6, 17), datetime.date(2008, 6, 26), datetime.date(2009, 9, 25), datetime.date(2013, 11, 7), datetime.date(2012, 11, 2), datetime.date(2007, 5, 4), datetime.date(2016, 11, 8), datetime.date(2020, 7, 28), datetime.date(2008, 6, 9), datetime.date(2011, 2, 7), datetime.date(2010, 4, 7), datetime.date(2019, 6, 9), datetime.date(2021, 3, 30), datetime.date(2011, 10, 27), datetime.date(2020, 12, 30), datetime.date(2021, 3, 22), datetime.date(2019, 8, 21), datetime.date(2009, 3, 13), datetime.date(2016, 6, 6), datetime.date(2019, 11, 5), datetime.date(2019, 5, 29), datetime.date(2021, 10, 18), datetime.date(2014, 4, 24), datetime.date(2013, 7, 15), datetime.date(2017, 12, 1), datetime.date(2016, 12, 14), datetime.date(2013, 7, 28), datetime.date(2017, 7, 24), datetime.date(2007, 1, 18), datetime.date(2010, 10, 8), datetime.date(2014, 5, 29), datetime.date(2016, 12, 12), datetime.date(2019, 8, 9), datetime.date(2020, 5, 2), datetime.date(2013, 10, 22), datetime.date(2018, 10, 3), datetime.date(2014, 12, 5), datetime.date(2007, 11, 12), datetime.date(2013, 12, 31), datetime.date(2017, 8, 4), datetime.date(2018, 1, 11), datetime.date(2010, 5, 5), datetime.date(2017, 11, 21), datetime.date(2012, 8, 30), datetime.date(2008, 12, 17), datetime.date(2019, 3, 25), datetime.date(2016, 12, 20), datetime.date(2019, 5, 31), datetime.date(2012, 10, 26), datetime.date(2017, 9, 19), datetime.date(2016, 8, 20), datetime.date(2011, 3, 2), datetime.date(2021, 2, 11), datetime.date(2007, 11, 6), datetime.date(2020, 10, 14), datetime.date(2008, 6, 2), datetime.date(2021, 5, 11), datetime.date(2012, 4, 18), datetime.date(2016, 7, 8), datetime.date(2019, 1, 11), datetime.date(2007, 4, 16), datetime.date(2016, 5, 19), datetime.date(2015, 1, 8), datetime.date(2007, 12, 17), datetime.date(2017, 5, 18), datetime.date(2019, 10, 9), datetime.date(2016, 3, 10), datetime.date(2010, 11, 12), datetime.date(2007, 7, 19), datetime.date(2014, 2, 25), datetime.date(2019, 4, 30), datetime.date(2012, 9, 10), datetime.date(2011, 8, 26), datetime.date(2016, 7, 21), datetime.date(2014, 3, 18), datetime.date(2014, 5, 8), datetime.date(2012, 10, 25), datetime.date(2011, 7, 1), datetime.date(2017, 5, 30), datetime.date(2014, 4, 7), datetime.date(2018, 12, 7), datetime.date(2015, 8, 21), datetime.date(2018, 2, 26), datetime.date(2014, 1, 20), datetime.date(2011, 8, 28), datetime.date(2016, 9, 13), datetime.date(2016, 3, 14), datetime.date(2017, 2, 3), datetime.date(2019, 1, 30), datetime.date(2016, 10, 4), datetime.date(2008, 1, 24), datetime.date(2008, 10, 22), datetime.date(2010, 8, 19), datetime.date(2013, 10, 18), datetime.date(2018, 3, 23), datetime.date(2008, 3, 14), datetime.date(2016, 11, 10), datetime.date(2010, 9, 7), datetime.date(2011, 9, 12), datetime.date(2018, 6, 6), datetime.date(2020, 4, 23), datetime.date(2008, 7, 18), datetime.date(2017, 1, 24), datetime.date(2011, 1, 28), datetime.date(2011, 9, 7), datetime.date(2020, 6, 15), datetime.date(2014, 6, 13), datetime.date(2017, 10, 12), datetime.date(2019, 5, 5), datetime.date(2020, 2, 28), datetime.date(2015, 9, 17), datetime.date(2018, 2, 1), datetime.date(2011, 6, 11), datetime.date(2011, 1, 12), datetime.date(2012, 10, 4), datetime.date(2014, 5, 24), datetime.date(2014, 4, 23), datetime.date(2007, 7, 26), datetime.date(2014, 10, 6), datetime.date(2020, 9, 6), datetime.date(2015, 9, 28), datetime.date(2015, 2, 13), datetime.date(2011, 11, 18), datetime.date(2013, 9, 26), datetime.date(2011, 8, 2), datetime.date(2017, 3, 28), datetime.date(2011, 9, 19), datetime.date(2007, 2, 27), datetime.date(2018, 12, 20), datetime.date(2011, 4, 14), datetime.date(2010, 6, 28), datetime.date(2013, 1, 24), datetime.date(2017, 4, 12), datetime.date(2012, 10, 24), datetime.date(2019, 6, 13), datetime.date(2014, 2, 12), datetime.date(2021, 5, 7), datetime.date(2017, 5, 26), datetime.date(2011, 6, 30), datetime.date(2013, 5, 31), datetime.date(2009, 8, 17), datetime.date(2017, 2, 9), datetime.date(2019, 9, 24), datetime.date(2018, 11, 5), datetime.date(2015, 6, 12), datetime.date(2020, 6, 29), datetime.date(2012, 10, 8), datetime.date(2012, 10, 1), datetime.date(2008, 6, 13), datetime.date(2014, 5, 12), datetime.date(2013, 3, 11), datetime.date(2017, 10, 30), datetime.date(2007, 4, 20), datetime.date(2021, 7, 27), datetime.date(2020, 9, 16), datetime.date(2007, 7, 18), datetime.date(2012, 10, 5), datetime.date(2015, 3, 29), datetime.date(2021, 8, 29), datetime.date(2016, 1, 4), datetime.date(2018, 6, 12), datetime.date(2017, 3, 14), datetime.date(2020, 5, 4), datetime.date(2021, 2, 5), datetime.date(2012, 3, 26), datetime.date(2012, 7, 10), datetime.date(2014, 9, 13), datetime.date(2008, 12, 29), datetime.date(2008, 9, 9), datetime.date(2016, 3, 22), datetime.date(2009, 4, 22), datetime.date(2019, 8, 6), datetime.date(2016, 7, 15), datetime.date(2015, 9, 25), datetime.date(2007, 3, 8), datetime.date(2020, 5, 26), datetime.date(2008, 10, 23), datetime.date(2020, 12, 10), datetime.date(2016, 12, 6), datetime.date(2010, 9, 28), datetime.date(2013, 8, 21), datetime.date(2017, 10, 9), datetime.date(2012, 10, 9), datetime.date(2018, 1, 9), datetime.date(2015, 11, 23), datetime.date(2015, 9, 21), datetime.date(2020, 10, 16), datetime.date(2012, 7, 26), datetime.date(2017, 12, 13), datetime.date(2021, 4, 5), datetime.date(2014, 11, 25), datetime.date(2017, 10, 23), datetime.date(2013, 10, 24), datetime.date(2011, 6, 27), datetime.date(2008, 3, 4), datetime.date(2009, 2, 18), datetime.date(2008, 10, 16), datetime.date(2013, 5, 6), datetime.date(2012, 10, 13), datetime.date(2021, 3, 15), datetime.date(2008, 12, 5), datetime.date(2009, 7, 14), datetime.date(2017, 4, 27), datetime.date(2019, 8, 22), datetime.date(2013, 10, 25), datetime.date(2016, 6, 20), datetime.date(2015, 1, 26), datetime.date(2015, 1, 20), datetime.date(2016, 9, 28), datetime.date(2017, 11, 20), datetime.date(2014, 2, 4), datetime.date(2016, 10, 18), datetime.date(2014, 7, 31), datetime.date(2012, 1, 18), datetime.date(2016, 7, 22), datetime.date(2011, 10, 7), datetime.date(2011, 1, 27), datetime.date(2019, 10, 15), datetime.date(2015, 7, 24), datetime.date(2012, 11, 3), datetime.date(2019, 5, 14), datetime.date(2020, 2, 14), datetime.date(2013, 2, 13), datetime.date(2020, 10, 30), datetime.date(2018, 10, 31), datetime.date(2012, 11, 5), datetime.date(2015, 9, 8), datetime.date(2015, 5, 13), datetime.date(2011, 10, 21), datetime.date(2012, 6, 22), datetime.date(2015, 3, 25), datetime.date(2009, 2, 9), datetime.date(2012, 5, 17), datetime.date(2017, 5, 28), datetime.date(2015, 3, 19), datetime.date(2017, 6, 14), datetime.date(2009, 10, 22), datetime.date(2016, 1, 25), datetime.date(2017, 9, 20), datetime.date(2019, 8, 1), datetime.date(2018, 4, 11), datetime.date(2019, 2, 1), datetime.date(2010, 5, 19), datetime.date(2019, 9, 8), datetime.date(2020, 6, 9), datetime.date(2014, 12, 3), datetime.date(2011, 11, 28), datetime.date(2018, 10, 19), datetime.date(2013, 4, 9), datetime.date(2014, 12, 1), datetime.date(2010, 8, 24), datetime.date(2014, 10, 2), datetime.date(2012, 5, 25), datetime.date(2017, 7, 19), datetime.date(2011, 7, 6), datetime.date(2010, 7, 8), datetime.date(2018, 11, 30), datetime.date(2012, 1, 23), datetime.date(2012, 4, 16), datetime.date(2009, 7, 28), datetime.date(2017, 2, 14), datetime.date(2012, 1, 25), datetime.date(2015, 8, 10), datetime.date(2020, 12, 4), datetime.date(2015, 8, 6), datetime.date(2020, 1, 15), datetime.date(2011, 5, 19), datetime.date(2008, 1, 11), datetime.date(2011, 12, 16), datetime.date(2015, 4, 28), datetime.date(2014, 1, 26), datetime.date(2007, 9, 12), datetime.date(2018, 5, 9), datetime.date(2009, 7, 6), datetime.date(2015, 5, 11), datetime.date(2015, 10, 22), datetime.date(2016, 12, 17), datetime.date(2016, 6, 30), datetime.date(2015, 1, 23), datetime.date(2019, 6, 4), datetime.date(2013, 2, 26), datetime.date(2010, 1, 29), datetime.date(2019, 9, 26), datetime.date(2008, 6, 11), datetime.date(2020, 1, 27), datetime.date(2017, 1, 30), datetime.date(2016, 4, 28), datetime.date(2017, 11, 7), datetime.date(2020, 3, 18), datetime.date(2019, 1, 10), datetime.date(2019, 9, 5), datetime.date(2016, 9, 20), datetime.date(2017, 10, 24), datetime.date(2011, 10, 25), datetime.date(2009, 4, 20), datetime.date(2012, 4, 5), datetime.date(2011, 3, 31), datetime.date(2009, 9, 15), datetime.date(2012, 12, 7), datetime.date(2007, 8, 16), datetime.date(2009, 11, 27), datetime.date(2015, 7, 4), datetime.date(2017, 3, 7), datetime.date(2007, 4, 30), datetime.date(2019, 2, 11), datetime.date(2015, 5, 9), datetime.date(2015, 10, 20), datetime.date(2021, 8, 19), datetime.date(2018, 2, 13), datetime.date(2016, 2, 5), datetime.date(2020, 6, 23), datetime.date(2007, 7, 27), datetime.date(2014, 11, 12), datetime.date(2011, 9, 26), datetime.date(2019, 3, 3), datetime.date(2014, 8, 25), datetime.date(2012, 10, 2), datetime.date(2013, 4, 22), datetime.date(2008, 3, 18), datetime.date(2015, 3, 20), datetime.date(2011, 5, 3), datetime.date(2021, 1, 19), datetime.date(2017, 7, 31), datetime.date(2015, 6, 20), datetime.date(2018, 4, 24), datetime.date(2017, 2, 10), datetime.date(2019, 3, 21), datetime.date(2021, 9, 29), datetime.date(2014, 2, 7), datetime.date(2018, 6, 7), datetime.date(2016, 9, 9), datetime.date(2017, 6, 26), datetime.date(2010, 7, 19), datetime.date(2007, 5, 9), datetime.date(2008, 5, 15), datetime.date(2015, 7, 29), datetime.date(2011, 3, 30), datetime.date(2015, 6, 16), datetime.date(2016, 10, 12), datetime.date(2007, 5, 17), datetime.date(2015, 12, 27), datetime.date(2017, 9, 6), datetime.date(2009, 8, 20), datetime.date(2017, 8, 30), datetime.date(2020, 4, 13), datetime.date(2020, 8, 3), datetime.date(2016, 2, 29), datetime.date(2015, 10, 16), datetime.date(2019, 5, 13), datetime.date(2011, 7, 20), datetime.date(2021, 4, 19), datetime.date(2012, 9, 24), datetime.date(2010, 1, 4), datetime.date(2018, 11, 7), datetime.date(2020, 12, 23), datetime.date(2018, 8, 1), datetime.date(2020, 8, 18), datetime.date(2008, 8, 6), datetime.date(2019, 11, 6), datetime.date(2014, 3, 25), datetime.date(2009, 3, 14), datetime.date(2020, 4, 27), datetime.date(2020, 11, 18), datetime.date(2009, 10, 30), datetime.date(2013, 6, 21), datetime.date(2008, 12, 2), datetime.date(2008, 5, 27), datetime.date(2014, 5, 13), datetime.date(2017, 2, 2), datetime.date(2018, 8, 9), datetime.date(2021, 2, 19), datetime.date(2009, 5, 29), datetime.date(2013, 10, 4), datetime.date(2018, 4, 14), datetime.date(2014, 8, 18), datetime.date(2021, 9, 9), datetime.date(2013, 5, 20), datetime.date(2020, 6, 26), datetime.date(2017, 3, 13), datetime.date(2019, 9, 9), datetime.date(2012, 4, 17), datetime.date(2007, 10, 3), datetime.date(2016, 9, 23), datetime.date(2011, 2, 18), datetime.date(2011, 6, 13), datetime.date(2016, 3, 8), datetime.date(2007, 7, 5), datetime.date(2015, 10, 14), datetime.date(2020, 6, 12), datetime.date(2010, 7, 26), datetime.date(2019, 3, 27), datetime.date(2016, 11, 21), datetime.date(2020, 3, 31), datetime.date(2012, 10, 12), datetime.date(2020, 10, 2), datetime.date(2020, 4, 8), datetime.date(2014, 8, 21), datetime.date(2012, 8, 20), datetime.date(2013, 2, 28), datetime.date(2016, 9, 19), datetime.date(2013, 4, 18), datetime.date(2021, 5, 5), datetime.date(2015, 8, 24), datetime.date(2019, 12, 5), datetime.date(2021, 8, 1), datetime.date(2011, 2, 17), datetime.date(2019, 9, 19), datetime.date(2013, 12, 6), datetime.date(2015, 8, 3), datetime.date(2011, 6, 7), datetime.date(2021, 6, 3), datetime.date(2013, 9, 25), datetime.date(2014, 6, 12), datetime.date(2020, 12, 17), datetime.date(2015, 2, 12), datetime.date(2021, 6, 23), datetime.date(2017, 12, 7), datetime.date(2020, 2, 20), datetime.date(2013, 8, 16), datetime.date(2010, 3, 4), datetime.date(2013, 5, 13), datetime.date(2006, 12, 27), datetime.date(2011, 9, 28), datetime.date(2017, 1, 20), datetime.date(2008, 8, 29), datetime.date(2020, 1, 22), datetime.date(2020, 7, 30), datetime.date(2017, 3, 8), datetime.date(2010, 1, 28), datetime.date(2011, 8, 19), datetime.date(2014, 4, 22), datetime.date(2012, 6, 11), datetime.date(2014, 11, 13), datetime.date(2019, 11, 25), datetime.date(2015, 10, 30), datetime.date(2017, 4, 11), datetime.date(2007, 11, 20), datetime.date(2017, 11, 6), datetime.date(2013, 4, 17), datetime.date(2016, 9, 29), datetime.date(2012, 12, 10), datetime.date(2011, 11, 17), datetime.date(2010, 3, 5), datetime.date(2013, 11, 29), datetime.date(2021, 1, 5), datetime.date(2009, 8, 7), datetime.date(2017, 3, 9), datetime.date(2013, 5, 14), datetime.date(2013, 7, 17), datetime.date(2012, 10, 3), datetime.date(2008, 6, 30), datetime.date(2015, 1, 16), datetime.date(2021, 5, 12), datetime.date(2019, 1, 21), datetime.date(2014, 7, 11), datetime.date(2015, 10, 12), datetime.date(2019, 6, 27), datetime.date(2020, 11, 12), datetime.date(2017, 7, 10), datetime.date(2015, 10, 6), datetime.date(2020, 12, 28), datetime.date(2010, 2, 23), datetime.date(2010, 11, 8), datetime.date(2019, 1, 8), datetime.date(2021, 2, 22), datetime.date(2009, 1, 15), datetime.date(2012, 10, 11), datetime.date(2009, 4, 1), datetime.date(2013, 11, 22), datetime.date(2014, 7, 3), datetime.date(2007, 11, 19), datetime.date(2020, 2, 6), datetime.date(2013, 8, 12), datetime.date(2008, 3, 5), datetime.date(2010, 11, 30), datetime.date(2007, 9, 4), datetime.date(2014, 1, 2), datetime.date(2019, 8, 25), datetime.date(2015, 9, 16), datetime.date(2012, 1, 11), datetime.date(2020, 4, 6), datetime.date(2007, 3, 15), datetime.date(2012, 10, 19), datetime.date(2020, 9, 29), datetime.date(2012, 7, 18), datetime.date(2019, 6, 30), datetime.date(2017, 11, 8), datetime.date(2012, 12, 12), datetime.date(2016, 11, 11), datetime.date(2016, 9, 22), datetime.date(2006, 12, 26), datetime.date(2012, 3, 16), datetime.date(2010, 2, 3), datetime.date(2010, 7, 15), datetime.date(2010, 3, 3), datetime.date(2014, 8, 26), datetime.date(2015, 1, 21), datetime.date(2020, 6, 1), datetime.date(2019, 12, 19), datetime.date(2019, 3, 12), datetime.date(2020, 9, 17), datetime.date(2010, 8, 4), datetime.date(2007, 11, 14), datetime.date(2018, 3, 2), datetime.date(2014, 3, 10), datetime.date(2016, 9, 25), datetime.date(2012, 2, 15), datetime.date(2016, 11, 30), datetime.date(2019, 2, 8), datetime.date(2017, 5, 5), datetime.date(2011, 6, 19), datetime.date(2012, 11, 1), datetime.date(2017, 4, 6), datetime.date(2008, 10, 17), datetime.date(2015, 4, 10), datetime.date(2008, 5, 7), datetime.date(2018, 3, 20), datetime.date(2011, 7, 18), datetime.date(2021, 7, 22), datetime.date(2015, 4, 13), datetime.date(2019, 7, 28), datetime.date(2017, 8, 11), datetime.date(2021, 9, 3), datetime.date(2013, 3, 25)}\n"
          ]
        },
        {
          "output_type": "stream",
          "name": "stderr",
          "text": [
            "<ipython-input-68-b1a25c820588>:13: SettingWithCopyWarning: \n",
            "A value is trying to be set on a copy of a slice from a DataFrame.\n",
            "Try using .loc[row_indexer,col_indexer] = value instead\n",
            "\n",
            "See the caveats in the documentation: https://pandas.pydata.org/pandas-docs/stable/user_guide/indexing.html#returning-a-view-versus-a-copy\n",
            "  stock_data_cleaned['Date'] = pd.to_datetime(stock_data_cleaned['Date']).dt.date\n",
            "<ipython-input-68-b1a25c820588>:14: SettingWithCopyWarning: \n",
            "A value is trying to be set on a copy of a slice from a DataFrame.\n",
            "Try using .loc[row_indexer,col_indexer] = value instead\n",
            "\n",
            "See the caveats in the documentation: https://pandas.pydata.org/pandas-docs/stable/user_guide/indexing.html#returning-a-view-versus-a-copy\n",
            "  news_data_cleaned['published_at'] = pd.to_datetime(news_data_cleaned['published_at']).dt.date\n"
          ]
        }
      ]
    },
    {
      "cell_type": "code",
      "source": [
        "output_file_path = 'C:\\\\Users\\\\NEW\\\\Desktop\\\\bajaj_finance_stock_data.xlsx'\n",
        "stock_data.to_excel(output_file_path, index=False)"
      ],
      "metadata": {
        "id": "ShVmT9CXkQ8y"
      },
      "execution_count": null,
      "outputs": []
    },
    {
      "cell_type": "code",
      "source": [
        "combined_data=pd.read_excel('/content/final.xlsx')"
      ],
      "metadata": {
        "id": "XGOpme4hoEqQ"
      },
      "execution_count": null,
      "outputs": []
    },
    {
      "cell_type": "code",
      "source": [
        "# Create a label for price movement: 1 if stock price increased, 0 if it decreased\n",
        "combined_data['price_movement'] = combined_data['Close'].pct_change().apply(lambda x: 1 if x > 0 else 0)\n",
        "\n",
        "# Features: sentiment score, previous day's close, and possibly others\n",
        "combined_data['previous_close'] = combined_data['Close'].shift(1)\n",
        "\n",
        "# Drop rows with missing values (due to shifts or missing data)\n",
        "combined_data.dropna(inplace=True)\n",
        "\n",
        "# Features (X) and target (y)\n",
        "X = combined_data[['sentiment_score', 'Open', 'High', 'Low','Close', 'Adj Close', 'Volume','previous_close']]  # Add more features if needed\n",
        "y = combined_data['price_movement']\n",
        "\n",
        "# Preview the feature set\n",
        "print(X.head(), y.head())\n"
      ],
      "metadata": {
        "colab": {
          "base_uri": "https://localhost:8080/"
        },
        "id": "Q4l2NYfWowRr",
        "outputId": "cde76d9c-7962-4934-99b8-15108a0037f1"
      },
      "execution_count": null,
      "outputs": [
        {
          "output_type": "stream",
          "name": "stdout",
          "text": [
            "   sentiment_score         Open         High          Low        Close  \\\n",
            "2           0.9983  7444.950195  7485.850098  7368.200195  7384.799805   \n",
            "3           0.9999  7560.000000  7733.950195  7560.000000  7705.549805   \n",
            "4           0.9999  7734.950195  7789.000000  7673.100098  7711.149902   \n",
            "5           0.9995  7677.000000  7830.000000  7631.299805  7736.000000   \n",
            "6           0.9999  7774.000000  7810.000000  7698.000000  7725.450195   \n",
            "\n",
            "     Adj Close   Volume  previous_close  \n",
            "2  7347.912598   553405     7430.049805  \n",
            "3  7667.060059  2911879     7384.799805  \n",
            "4  7672.632324  1052601     7705.549805  \n",
            "5  7697.358398  1121209     7711.149902  \n",
            "6  7686.861328  1247083     7736.000000   2    0\n",
            "3    1\n",
            "4    1\n",
            "5    1\n",
            "6    0\n",
            "Name: price_movement, dtype: int64\n"
          ]
        }
      ]
    },
    {
      "cell_type": "code",
      "source": [],
      "metadata": {
        "id": "q3X7ONw9DsPn"
      },
      "execution_count": null,
      "outputs": []
    },
    {
      "cell_type": "code",
      "source": [
        "from sklearn.model_selection import train_test_split\n",
        "from sklearn.ensemble import RandomForestClassifier\n",
        "from sklearn.metrics import accuracy_score, confusion_matrix\n",
        "\n",
        "# Train-test split\n",
        "X_train, X_test, y_train, y_test = train_test_split(X, y, test_size=0.3, random_state=42)\n",
        "\n",
        "# Train the Random Forest model\n",
        "model = RandomForestClassifier(random_state=42)\n",
        "model.fit(X_train, y_train)\n",
        "\n",
        "# Make predictions\n",
        "y_pred = model.predict(X_test)\n",
        "\n",
        "# Evaluate the model\n",
        "accuracy = accuracy_score(y_test, y_pred)\n",
        "conf_matrix = confusion_matrix(y_test, y_pred)\n",
        "\n",
        "print(f'Accuracy: {accuracy}')\n",
        "print(f'Confusion Matrix:\\n {conf_matrix}')\n"
      ],
      "metadata": {
        "colab": {
          "base_uri": "https://localhost:8080/"
        },
        "id": "r-gEhJC2piuO",
        "outputId": "e36cf4e9-e5ad-47bc-f8ed-3bca105a8405"
      },
      "execution_count": null,
      "outputs": [
        {
          "output_type": "stream",
          "name": "stdout",
          "text": [
            "Accuracy: 0.7857142857142857\n",
            "Confusion Matrix:\n",
            " [[15  5]\n",
            " [ 4 18]]\n"
          ]
        }
      ]
    },
    {
      "cell_type": "code",
      "source": [
        "import matplotlib.pyplot as plt\n",
        "\n",
        "# Plot stock prices with sentiment scores\n",
        "plt.figure(figsize=(10,6))\n",
        "plt.plot(combined_data['Date'], combined_data['Close'], label='Stock Price')\n",
        "plt.scatter(combined_data['Date'], combined_data['sentiment_score']*1000, color='r', label='Sentiment Score x1000')\n",
        "plt.legend()\n",
        "plt.show()\n"
      ],
      "metadata": {
        "colab": {
          "base_uri": "https://localhost:8080/",
          "height": 522
        },
        "id": "X7gMhmlnrnFN",
        "outputId": "8fd04828-774a-4a29-88bd-e22ac8cebb38"
      },
      "execution_count": null,
      "outputs": [
        {
          "output_type": "display_data",
          "data": {
            "text/plain": [
              "<Figure size 1000x600 with 1 Axes>"
            ],
            "image/png": "[encoded data removed]"
          },
          "metadata": {}
        }
      ]
    }
  ]
}